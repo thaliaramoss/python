{
  "nbformat": 4,
  "nbformat_minor": 0,
  "metadata": {
    "colab": {
      "provenance": [],
      "include_colab_link": true
    },
    "kernelspec": {
      "name": "python3",
      "display_name": "Python 3"
    },
    "language_info": {
      "name": "python"
    }
  },
  "cells": [
    {
      "cell_type": "markdown",
      "metadata": {
        "id": "view-in-github",
        "colab_type": "text"
      },
      "source": [
        "<a href=\"https://colab.research.google.com/github/thaliaramoss/python/blob/main/exercios_Python_para__Data__Science_primeiros__passos_Alura.ipynb\" target=\"_parent\"><img src=\"https://colab.research.google.com/assets/colab-badge.svg\" alt=\"Open In Colab\"/></a>"
      ]
    },
    {
      "cell_type": "markdown",
      "source": [
        "# Sobre o notebook\n",
        "\n",
        "A \"hora da prática\" é uma atividade do curso de Python para Data Science da Alura que contém diversos desafios envolvendo os aprendizados de cada aula.\n",
        "\n",
        "O notebook \"hora da pratica\" é um notebook construído com espaço para as células dos desafios propostos no curso, com ele você tem espaço para construir e executar suas soluções"
      ],
      "metadata": {
        "id": "_kwAaQ36gLQ1"
      }
    },
    {
      "cell_type": "markdown",
      "source": [
        "## Aula 1 - Introdução ao Python"
      ],
      "metadata": {
        "id": "Mc-KN0dA0Z83"
      }
    },
    {
      "cell_type": "markdown",
      "source": [
        "### Questão 1\n",
        "\n",
        "Imprima a frase `Escola de Dados da Alura!`"
      ],
      "metadata": {
        "id": "l5eLWf0W0ikn"
      }
    },
    {
      "cell_type": "code",
      "source": [
        "print('escola de dados da alura')"
      ],
      "metadata": {
        "id": "5pllxJ0h0-yA",
        "colab": {
          "base_uri": "https://localhost:8080/"
        },
        "outputId": "79c457e3-f3aa-4f81-e52b-607ecf4e0def"
      },
      "execution_count": null,
      "outputs": [
        {
          "output_type": "stream",
          "name": "stdout",
          "text": [
            "escola de dados da alura\n"
          ]
        }
      ]
    },
    {
      "cell_type": "markdown",
      "source": [
        "### Questão 2\n",
        "Imprima na tela seu nome e seu sobrenome seguindo a estrutura abaixo:\n",
        "```\n",
        "Nome: [seu nome]\n",
        "Sobrenome: [seu sobrenome]\n",
        "```\n"
      ],
      "metadata": {
        "id": "tQdX90Ue03c7"
      }
    },
    {
      "cell_type": "code",
      "source": [
        "print(\"nome: thalia\")\n",
        "print(\"sobrenome: jk\")"
      ],
      "metadata": {
        "id": "RVw5iKn20_Ps",
        "colab": {
          "base_uri": "https://localhost:8080/"
        },
        "outputId": "b4496a2d-f5c1-4387-806b-1efe6b5e48af"
      },
      "execution_count": null,
      "outputs": [
        {
          "output_type": "stream",
          "name": "stdout",
          "text": [
            "nome: thalia\n",
            "sobrenome: jk\n"
          ]
        }
      ]
    },
    {
      "cell_type": "markdown",
      "source": [
        "### Questão 3\n",
        "Imprima o seu primeiro nome letra a letra. Por exemplo, nome é Mirla, então eu obtenho a seguinte saída:\n",
        "```\n",
        "M\n",
        "I\n",
        "R\n",
        "L\n",
        "A\n",
        "```\n"
      ],
      "metadata": {
        "id": "gfg-aiip03vC"
      }
    },
    {
      "cell_type": "code",
      "source": [
        "nome = 'jennie'\n",
        "nome.upper()\n",
        "\n",
        "print(nome)\n",
        "\n",
        "for letter in nome:\n",
        "  print(letter)"
      ],
      "metadata": {
        "id": "v5bkrgf60_qx",
        "colab": {
          "base_uri": "https://localhost:8080/"
        },
        "outputId": "a6296442-4e34-47b6-d6a4-7b15442f8aef"
      },
      "execution_count": null,
      "outputs": [
        {
          "output_type": "stream",
          "name": "stdout",
          "text": [
            "jennie\n",
            "j\n",
            "e\n",
            "n\n",
            "n\n",
            "i\n",
            "e\n"
          ]
        }
      ]
    },
    {
      "cell_type": "markdown",
      "source": [
        "### Questão 4\n",
        "Imprima o dia do seu nascimento em formato `dia mês ano`. Os valores de dia e ano não podem estar entre aspas. O formato deve estar como no exemplo, supondo uma data de aniversário dia 28 de fevereiro de 2003:\n",
        "```\n",
        "28 fevereiro 2003\n",
        "```"
      ],
      "metadata": {
        "id": "oadrJbl704MM"
      }
    },
    {
      "cell_type": "code",
      "source": [
        "\n",
        "print(13, 'julho', 2004)"
      ],
      "metadata": {
        "id": "cx0KSsrq1ALD",
        "colab": {
          "base_uri": "https://localhost:8080/"
        },
        "outputId": "21faea36-e8a2-4f1d-a38b-560a870faff6"
      },
      "execution_count": null,
      "outputs": [
        {
          "output_type": "stream",
          "name": "stdout",
          "text": [
            "13 julho 2004\n"
          ]
        }
      ]
    },
    {
      "cell_type": "markdown",
      "source": [
        "### Questão 5\n",
        "Imprima em um único print o atual ano que você está fazendo esse curso, o valor do ano deve ser um dado numérico. A saída do print deve ser a seguinte:\n",
        "```\n",
        "Ano atual: [ano]\n",
        "```\n"
      ],
      "metadata": {
        "id": "3RgyMaan04TD"
      }
    },
    {
      "cell_type": "code",
      "execution_count": null,
      "metadata": {
        "id": "UN77EfQ2d36Y",
        "colab": {
          "base_uri": "https://localhost:8080/"
        },
        "outputId": "470f9736-b029-40f3-db4e-fe265b44f040"
      },
      "outputs": [
        {
          "output_type": "stream",
          "name": "stdout",
          "text": [
            "ano atual:  2023\n"
          ]
        }
      ],
      "source": [
        "\n",
        "\n",
        "print('ano atual: ', 2023)"
      ]
    },
    {
      "cell_type": "markdown",
      "source": [
        "## Aula 2 - Manipulando dados no Python"
      ],
      "metadata": {
        "id": "D9e3FqhO1S3X"
      }
    },
    {
      "cell_type": "markdown",
      "source": [
        "### Coleta e amostragem de dados"
      ],
      "metadata": {
        "id": "n6o7C1Ze2cRe"
      }
    },
    {
      "cell_type": "markdown",
      "source": [
        "#### Questão 1\n",
        "Crie um programa que solicite à pessoa usuária digitar seu nome, e imprima “Olá, [nome]!”."
      ],
      "metadata": {
        "id": "sRneWag9PV5Q"
      }
    },
    {
      "cell_type": "code",
      "source": [
        "nome = input(\"digite um nome:\")\n",
        "\n",
        "print(f'olá {nome}')"
      ],
      "metadata": {
        "id": "dbX1fKqy2HnE",
        "colab": {
          "base_uri": "https://localhost:8080/"
        },
        "outputId": "fd33b778-750c-4807-d626-57e2475c153f"
      },
      "execution_count": null,
      "outputs": [
        {
          "output_type": "stream",
          "name": "stdout",
          "text": [
            "digite um nome:jennie\n",
            "olá jennie\n"
          ]
        }
      ]
    },
    {
      "cell_type": "markdown",
      "source": [
        "#### Questão 2\n",
        "Crie um programa que solicite à pessoa usuária digitar seu nome e idade, e imprima “Olá, [nome], você tem [idade] anos.”."
      ],
      "metadata": {
        "id": "BJ1SznEp70d5"
      }
    },
    {
      "cell_type": "code",
      "source": [
        "nome = input(\"digite um nome:\")\n",
        "idade = input('digite uma idade: ')\n",
        "\n",
        "print(f'olá {nome}, vc tem {idade} anos')"
      ],
      "metadata": {
        "id": "jKz-0Sq8PFkp",
        "colab": {
          "base_uri": "https://localhost:8080/"
        },
        "outputId": "e8c96367-3192-44cb-acfe-15fbdd67759c"
      },
      "execution_count": null,
      "outputs": [
        {
          "output_type": "stream",
          "name": "stdout",
          "text": [
            "digite um nome:jennie\n",
            "digite uma idade: 15\n",
            "olá jennie, vc tem 15 anos\n"
          ]
        }
      ]
    },
    {
      "cell_type": "markdown",
      "source": [
        "#### Questão 3\n",
        "Crie um programa que solicite à pessoa usuária digitar seu nome, idade e altura em metros, e imprima “Olá, [nome], você tem [idade] anos e mede [altura] metros!”."
      ],
      "metadata": {
        "id": "2T0jNYZt70aa"
      }
    },
    {
      "cell_type": "code",
      "source": [
        "nome = input(\"Qual seu  nome\")\n",
        "idade = input(\"qual sua idade\")\n",
        "altura = input(\"qual sua altura em metro?\")\n",
        "print(f'Olá, {nome}, você tem {idade} anos e mede {altura} metros!')"
      ],
      "metadata": {
        "id": "pI4kHNzTPIXh",
        "colab": {
          "base_uri": "https://localhost:8080/"
        },
        "outputId": "d5232b5f-f47f-4828-8d34-706b50d5fee1"
      },
      "execution_count": null,
      "outputs": [
        {
          "output_type": "stream",
          "name": "stdout",
          "text": [
            "Qual seu  nomejennie queen\n",
            "qual sua idade26\n",
            "qual sua altura em metro?1,60\n",
            "Olá, jennie queen, você tem 26 anos e mede 1,60 metros!\n"
          ]
        }
      ]
    },
    {
      "cell_type": "markdown",
      "source": [
        "### Calculadora com operadores"
      ],
      "metadata": {
        "id": "mEBFwKkC70KP"
      }
    },
    {
      "cell_type": "markdown",
      "source": [
        "#### Questão 1\n",
        "\n",
        "Crie um programa que solicite dois valores numéricos à pessoa usuária e imprima a soma dos dois valores."
      ],
      "metadata": {
        "id": "H-IV1oAPPSqK"
      }
    },
    {
      "cell_type": "code",
      "source": [
        "v1 = int(input('valor 1: '))\n",
        "v2 = int(input('valor 2: '))\n",
        "\n",
        "soma = v1 + v2\n",
        "\n",
        "print(f'soma de {v1} e {v2} é = {soma}')"
      ],
      "metadata": {
        "id": "Zb0W84sy8rnp",
        "colab": {
          "base_uri": "https://localhost:8080/"
        },
        "outputId": "3df4919b-b5f5-47e6-d2c1-d099542b4c52"
      },
      "execution_count": null,
      "outputs": [
        {
          "output_type": "stream",
          "name": "stdout",
          "text": [
            "valor 1: 3\n",
            "valor 2: 4\n",
            "soma de 3 e 4 é = 7\n"
          ]
        }
      ]
    },
    {
      "cell_type": "markdown",
      "source": [
        "#### Questão 2\n",
        "Crie um programa que solicite três valores numéricos à pessoa usuária e imprima a soma dos três valores."
      ],
      "metadata": {
        "id": "LUoi2MOu70Em"
      }
    },
    {
      "cell_type": "code",
      "source": [
        "v1 = int(input('valor 1: '))\n",
        "v2 = int(input('valor 2: '))\n",
        "v3 = int(input('valor 3: '))\n",
        "\n",
        "soma = v1 + v2 + v3\n",
        "\n",
        "print(f'soma de {v1}, {v2} e {v3} é = {soma}')"
      ],
      "metadata": {
        "id": "4FYjWyBS8rDm",
        "colab": {
          "base_uri": "https://localhost:8080/"
        },
        "outputId": "ecb5217c-8410-4039-f5ae-dc78487d39c1"
      },
      "execution_count": null,
      "outputs": [
        {
          "output_type": "stream",
          "name": "stdout",
          "text": [
            "valor 1: 2\n",
            "valor 2: 3\n",
            "valor 3: 4\n",
            "soma de 2, 3 e 4 é = 9\n"
          ]
        }
      ]
    },
    {
      "cell_type": "markdown",
      "source": [
        "#### Questão 3\n",
        "Crie um programa que solicite dois valores numéricos à pessoa usuária e imprima a subtração do primeiro pelo o segundo valor."
      ],
      "metadata": {
        "id": "lezGctF07z8i"
      }
    },
    {
      "cell_type": "code",
      "source": [
        "valor1 = int(input(\"informe o 1 valor\"))\n",
        "valor2 = int(input(\"informe o 2 valor\"))\n",
        "subt = valor1 - valor2\n",
        "print(f'o valor da subrataçao é:{subt}')"
      ],
      "metadata": {
        "id": "k0GE1z4w8p3J",
        "colab": {
          "base_uri": "https://localhost:8080/"
        },
        "outputId": "15ba3a79-fea1-4db3-a3b7-f45bb4d8320a"
      },
      "execution_count": null,
      "outputs": [
        {
          "output_type": "stream",
          "name": "stdout",
          "text": [
            "informe o 1 valor2\n",
            "informe o 2 valor1\n",
            "o valor da subrataçao é:1\n"
          ]
        }
      ]
    },
    {
      "cell_type": "markdown",
      "source": [
        "#### Questão 4\n",
        "\n",
        "Crie um programa que solicite dois valores numéricos à pessoa usuária e imprima a multiplicação dos dois valores.\n"
      ],
      "metadata": {
        "id": "wwMP-dPU7zxW"
      }
    },
    {
      "cell_type": "code",
      "source": [
        "v1 = int(input('valor 1: '))\n",
        "v2 = int(input('valor 2: '))\n",
        "\n",
        "mul = v1 * v2\n",
        "\n",
        "print(mul)\n"
      ],
      "metadata": {
        "id": "GzFCVHfp8peZ",
        "colab": {
          "base_uri": "https://localhost:8080/"
        },
        "outputId": "c55d8fc8-09c9-479a-9b1b-4f683039a0a5"
      },
      "execution_count": null,
      "outputs": [
        {
          "output_type": "stream",
          "name": "stdout",
          "text": [
            "valor 1: 3\n",
            "valor 2: 2\n",
            "6\n"
          ]
        }
      ]
    },
    {
      "cell_type": "markdown",
      "source": [
        "#### Questão 5\n",
        "\n",
        "Crie um programa que solicite dois valores numéricos, um numerador e um denominador, e realize a divisão entre os dois valores. Deixe claro que o valor do denominador não pode ser `0`.\n"
      ],
      "metadata": {
        "id": "9kxyHxUo7zRD"
      }
    },
    {
      "cell_type": "code",
      "source": [
        "v1 = int(input('valor 1: '))\n",
        "v2 = int(input('valor 2, não pd ser 0: '))\n",
        "\n",
        "div = v1/v2\n",
        "\n",
        "print(div)"
      ],
      "metadata": {
        "id": "ytJ8l5KH8ozc",
        "colab": {
          "base_uri": "https://localhost:8080/"
        },
        "outputId": "66679e84-f32b-4425-de8d-0460131e33a4"
      },
      "execution_count": null,
      "outputs": [
        {
          "output_type": "stream",
          "name": "stdout",
          "text": [
            "valor 1: 3\n",
            "valor 2, não pd ser 0: 4\n",
            "0.75\n"
          ]
        }
      ]
    },
    {
      "cell_type": "markdown",
      "source": [
        "#### Questão 6\n",
        "\n",
        "Crie um programa que solicite dois valores numéricos, um operador e uma potência, e realize a exponenciação entre esses dois valores.\n"
      ],
      "metadata": {
        "id": "zkUSBTQq8Hxt"
      }
    },
    {
      "cell_type": "code",
      "source": [
        "v1 = int(input('valor 1: '))\n",
        "v2 = int(input('valor 2: '))\n",
        "\n",
        "pot = v1**v2\n",
        "\n",
        "print(pot)"
      ],
      "metadata": {
        "id": "RPj36jq08oZp",
        "colab": {
          "base_uri": "https://localhost:8080/"
        },
        "outputId": "95aaee25-c3ee-449a-de66-d9054ed21687"
      },
      "execution_count": null,
      "outputs": [
        {
          "output_type": "stream",
          "name": "stdout",
          "text": [
            "valor 1: 3\n",
            "valor 2: 2\n",
            "9\n"
          ]
        }
      ]
    },
    {
      "cell_type": "markdown",
      "source": [
        "#### Questão 7\n",
        "Crie um programa que solicite dois valores numéricos, um numerador e um denominador e realize a divisão inteira entre os dois valores. Deixe claro que o valor do denominador não pode ser `0`."
      ],
      "metadata": {
        "id": "yiunIusZ8Huj"
      }
    },
    {
      "cell_type": "code",
      "source": [
        "v1 = int(input('valor 1: '))\n",
        "v2 = int(input('valor 2, não pd ser 0: '))\n",
        "\n",
        "div_int = v1//v2\n",
        "\n",
        "print(div_int)"
      ],
      "metadata": {
        "id": "UHK8xITf8oCg",
        "colab": {
          "base_uri": "https://localhost:8080/"
        },
        "outputId": "8b321198-515a-4e97-8b6f-efdfcbaad3cd"
      },
      "execution_count": null,
      "outputs": [
        {
          "output_type": "stream",
          "name": "stdout",
          "text": [
            "valor 1: 8\n",
            "valor 2, não pd ser 0: 7\n",
            "1\n"
          ]
        }
      ]
    },
    {
      "cell_type": "markdown",
      "source": [
        "#### Questão 8\n",
        "\n",
        "Crie um programa que solicite dois valores numéricos, um numerador e um denominador, e retorne o resto da divisão entre os dois valores. Deixe claro que o valor do denominador não pode ser `0`."
      ],
      "metadata": {
        "id": "z_D_JiLX8Hra"
      }
    },
    {
      "cell_type": "code",
      "source": [
        "v1 = int(input('valor 1: '))\n",
        "v2 = int(input('valor 2, não pd ser 0: '))\n",
        "\n",
        "div_res = v1%v2\n",
        "\n",
        "print(div_res)"
      ],
      "metadata": {
        "id": "EWGJeukO8nqx",
        "colab": {
          "base_uri": "https://localhost:8080/"
        },
        "outputId": "9b2f8028-665f-4b4e-c4b9-2ef58fb086f5"
      },
      "execution_count": null,
      "outputs": [
        {
          "output_type": "stream",
          "name": "stdout",
          "text": [
            "valor 1: 5\n",
            "valor 2, não pd ser 0: 3\n",
            "2\n"
          ]
        }
      ]
    },
    {
      "cell_type": "markdown",
      "source": [
        "#### Questão 9\n",
        "\n",
        "Crie um código que solicita 3 notas de um estudante e imprima a média das notas."
      ],
      "metadata": {
        "id": "RDRajNkU8N8N"
      }
    },
    {
      "cell_type": "code",
      "source": [
        "n1 = int(input('nota 1: '))\n",
        "n2 = int(input('nota 2: '))\n",
        "n3 = int(input('nota 3: '))\n",
        "\n",
        "media = (n1+n2+n3)/3\n",
        "\n",
        "print(f\"média: {media}\")"
      ],
      "metadata": {
        "id": "H6F4Ojzt8nSR",
        "colab": {
          "base_uri": "https://localhost:8080/"
        },
        "outputId": "a450e30a-471e-44e6-e310-08771bdaa9b9"
      },
      "execution_count": null,
      "outputs": [
        {
          "output_type": "stream",
          "name": "stdout",
          "text": [
            "nota 1: 4\n",
            "nota 2: 6\n",
            "nota 3: 5\n",
            "média: 5.0\n"
          ]
        }
      ]
    },
    {
      "cell_type": "markdown",
      "source": [
        "#### Questão 10\n",
        "\n",
        "Crie um código que calcule e imprima a média ponderada dos números 5, 12, 20 e 15 com pesos respectivamente iguais a 1, 2, 3 e 4."
      ],
      "metadata": {
        "id": "d7fjkne58N21"
      }
    },
    {
      "cell_type": "code",
      "source": [
        "sum = 1 + 2 + 3 + 4\n",
        "\n",
        "media = ((5*1) + (12*2) + (20*3) + (15*4))/sum\n",
        "\n",
        "print(f'media ponderada: {media}')"
      ],
      "metadata": {
        "id": "fwjoHlV48mkv",
        "colab": {
          "base_uri": "https://localhost:8080/"
        },
        "outputId": "aad50d0c-a109-4cd6-ea2c-f25a44c16905"
      },
      "execution_count": null,
      "outputs": [
        {
          "output_type": "stream",
          "name": "stdout",
          "text": [
            "media ponderada: 14.9\n"
          ]
        }
      ]
    },
    {
      "cell_type": "markdown",
      "source": [
        "### Editando textos"
      ],
      "metadata": {
        "id": "GNmbX1OU8N0V"
      }
    },
    {
      "cell_type": "markdown",
      "source": [
        "#### Questão 1\n",
        "\n",
        "Crie uma variável chamada “`frase`” e atribua a ela uma string de sua escolha. Em seguida, imprima a frase na tela."
      ],
      "metadata": {
        "id": "6wZ85mCsRCV0"
      }
    },
    {
      "cell_type": "code",
      "source": [
        "frase = 'taehyung the prettiest in the world'\n",
        "print(frase)"
      ],
      "metadata": {
        "id": "eRqr_gh-8mFy",
        "colab": {
          "base_uri": "https://localhost:8080/"
        },
        "outputId": "a1b66c4e-9f4a-4b19-8b99-13ee41c53534"
      },
      "execution_count": null,
      "outputs": [
        {
          "output_type": "stream",
          "name": "stdout",
          "text": [
            "taehyung the prettiest in the world\n"
          ]
        }
      ]
    },
    {
      "cell_type": "markdown",
      "source": [
        "#### Questão 2\n",
        "Crie um código que solicite uma frase e depois imprima a frase na tela."
      ],
      "metadata": {
        "id": "Aac17z-18Nwv"
      }
    },
    {
      "cell_type": "code",
      "source": [
        "frase = input('digite uma frase: ')\n",
        "print(frase)"
      ],
      "metadata": {
        "id": "8zfE2hh98lb0",
        "colab": {
          "base_uri": "https://localhost:8080/"
        },
        "outputId": "837984ec-9ab4-435b-d7ab-068423de03a7"
      },
      "execution_count": null,
      "outputs": [
        {
          "output_type": "stream",
          "name": "stdout",
          "text": [
            "digite uma frase: hello world\n",
            "hello world\n"
          ]
        }
      ]
    },
    {
      "cell_type": "markdown",
      "source": [
        "#### Questão 3\n",
        "\n",
        "Crie um código que solicite uma frase à pessoa usuária e imprima a mesma frase digitada mas com todas as letras maiúsculas."
      ],
      "metadata": {
        "id": "DXVzqpN58Ntr"
      }
    },
    {
      "cell_type": "code",
      "source": [
        "frase = input('digite uma frase: ')\n",
        "print(frase.upper())"
      ],
      "metadata": {
        "id": "d0VzoYP68k-I",
        "colab": {
          "base_uri": "https://localhost:8080/"
        },
        "outputId": "db84975c-af20-4881-871c-1262fb3541d5"
      },
      "execution_count": null,
      "outputs": [
        {
          "output_type": "stream",
          "name": "stdout",
          "text": [
            "digite uma frase: jennie queen is the best\n",
            "JENNIE QUEEN IS THE BEST\n"
          ]
        }
      ]
    },
    {
      "cell_type": "markdown",
      "source": [
        "#### Questão 4\n",
        "\n",
        "Crie um código que solicite uma frase à pessoa usuária e imprima a mesma frase digitada mas com todas as letras minúsculas."
      ],
      "metadata": {
        "id": "I12VeNPK8Nqb"
      }
    },
    {
      "cell_type": "code",
      "source": [
        "frase = input('digite uma frase: ')\n",
        "print(frase.lower())"
      ],
      "metadata": {
        "id": "KD8rNy2K8kox",
        "colab": {
          "base_uri": "https://localhost:8080/"
        },
        "outputId": "523a17bd-f2ed-43ae-f74f-496f5470bb3c"
      },
      "execution_count": null,
      "outputs": [
        {
          "output_type": "stream",
          "name": "stdout",
          "text": [
            "digite uma frase: HELLO world\n",
            "hello world\n"
          ]
        }
      ]
    },
    {
      "cell_type": "markdown",
      "source": [
        "#### Questão 5\n",
        "\n",
        "Crie uma variável chamada “`frase`” e atribua a ela uma string de sua escolha. Em seguida, imprima a frase sem espaços em branco no início e no fim."
      ],
      "metadata": {
        "id": "cRqngSE48Nog"
      }
    },
    {
      "cell_type": "code",
      "source": [
        "frase = '  taehyung the prettiest in the world  '\n",
        "print(frase.strip())"
      ],
      "metadata": {
        "id": "aSCpdF-o8kBs",
        "colab": {
          "base_uri": "https://localhost:8080/"
        },
        "outputId": "43956ab1-6513-44dc-d6d4-328f05ec042e"
      },
      "execution_count": null,
      "outputs": [
        {
          "output_type": "stream",
          "name": "stdout",
          "text": [
            "taehyung the prettiest in the world\n"
          ]
        }
      ]
    },
    {
      "cell_type": "markdown",
      "source": [
        "#### Questão 6\n",
        "\n",
        "Crie um código que solicite uma frase à pessoa usuária e imprima a mesma frase sem espaços em branco no início e no fim."
      ],
      "metadata": {
        "id": "murIazpQ8Nkv"
      }
    },
    {
      "cell_type": "code",
      "source": [
        "frase = input('digite uma frase: ')\n",
        "print(frase.strip())"
      ],
      "metadata": {
        "id": "tHunjwuG8jNq",
        "colab": {
          "base_uri": "https://localhost:8080/"
        },
        "outputId": "3041f826-2010-49ed-fe40-a98ae6bc8add"
      },
      "execution_count": null,
      "outputs": [
        {
          "output_type": "stream",
          "name": "stdout",
          "text": [
            "digite uma frase:  jdjhawhiagh   \n",
            "jdjhawhiagh\n"
          ]
        }
      ]
    },
    {
      "cell_type": "markdown",
      "source": [
        "#### Questão 7\n",
        "\n",
        "\n",
        "Crie um código que solicite uma frase à pessoa usuária e imprima a mesma frase sem espaços em branco no início e no fim e em letras minúsculas."
      ],
      "metadata": {
        "id": "eRxc2OeX8Nh2"
      }
    },
    {
      "cell_type": "code",
      "source": [
        "frase = input('digite uma frase: ')\n",
        "print(frase.strip().lower())"
      ],
      "metadata": {
        "id": "DYm0_UwS8ih6",
        "colab": {
          "base_uri": "https://localhost:8080/"
        },
        "outputId": "2a1c6822-762f-4280-f500-bc131d2cb4ce"
      },
      "execution_count": null,
      "outputs": [
        {
          "output_type": "stream",
          "name": "stdout",
          "text": [
            "digite uma frase:   JSJSJSJ    \n",
            "jsjsjsj\n"
          ]
        }
      ]
    },
    {
      "cell_type": "markdown",
      "source": [
        "#### Questão 8\n",
        "\n",
        "Crie um código que solicite uma frase à pessoa usuária e imprima a mesma frase com todas as vogais “`e`” trocadas pela letra “`f`”."
      ],
      "metadata": {
        "id": "UKATLavs8NfI"
      }
    },
    {
      "cell_type": "code",
      "source": [
        "frase = input('digite uma frase: ')\n",
        "print(frase.lower().replace('e', 'f'))"
      ],
      "metadata": {
        "id": "k64C5G5S8iLO",
        "colab": {
          "base_uri": "https://localhost:8080/"
        },
        "outputId": "c3bfd792-9307-400e-a188-feea75f5dc8f"
      },
      "execution_count": null,
      "outputs": [
        {
          "output_type": "stream",
          "name": "stdout",
          "text": [
            "digite uma frase: EEE eee jsjs\n",
            "fff fff jsjs\n"
          ]
        }
      ]
    },
    {
      "cell_type": "markdown",
      "source": [
        "#### Questão 9\n",
        "\n",
        "\n",
        "Crie um código que solicite uma frase à pessoa usuária e imprima a mesma frase com todas as vogais “`a`” trocadas pela caractere  “`@`”."
      ],
      "metadata": {
        "id": "n_1SPchw8NdG"
      }
    },
    {
      "cell_type": "code",
      "source": [
        "frase = input('digite uma frase: ')\n",
        "print(frase.lower().replace('a', chr(64)))"
      ],
      "metadata": {
        "id": "msaDNm_p8h0D",
        "colab": {
          "base_uri": "https://localhost:8080/"
        },
        "outputId": "a028e847-e562-4e59-a0c8-658f88d51544"
      },
      "execution_count": null,
      "outputs": [
        {
          "output_type": "stream",
          "name": "stdout",
          "text": [
            "digite uma frase: aaa AA AHHS\n",
            "@@@ @@ @hhs\n"
          ]
        }
      ]
    },
    {
      "cell_type": "markdown",
      "source": [
        "#### Questão 10\n",
        "\n",
        "\n",
        "Crie um código que solicite uma frase à pessoa usuária e imprima a mesma frase com todas as consoantes “`s`” trocadas pelo caractere  “`$`”."
      ],
      "metadata": {
        "id": "H3sTTjqI8Naa"
      }
    },
    {
      "cell_type": "code",
      "source": [
        "frase = input('digite uma frase: ')\n",
        "print(frase.lower().replace('s', chr(36)))"
      ],
      "metadata": {
        "id": "RPBIsWT68e-1",
        "colab": {
          "base_uri": "https://localhost:8080/"
        },
        "outputId": "d1fa3303-95be-4d2c-a7ea-8f3cba69572a"
      },
      "execution_count": null,
      "outputs": [
        {
          "output_type": "stream",
          "name": "stdout",
          "text": [
            "digite uma frase: sss SS\n",
            "$$$ $$\n"
          ]
        }
      ]
    },
    {
      "cell_type": "markdown",
      "source": [
        "## Aula 3 - Estruturas condicionais"
      ],
      "metadata": {
        "id": "XGePe4GD2I59"
      }
    },
    {
      "cell_type": "markdown",
      "source": [
        "### Aquecendo na programação"
      ],
      "metadata": {
        "id": "Pr9HTW0UHCdD"
      }
    },
    {
      "cell_type": "markdown",
      "source": [
        "#### Questão 1\n",
        "Escreva um programa que peça à pessoa usuária para fornecer dois números e exibir o número maior."
      ],
      "metadata": {
        "id": "xBZHqhVg80Fy"
      }
    },
    {
      "cell_type": "code",
      "source": [
        "n1 = int(input(\"1 number: \"))\n",
        "n2 = int(input(\"2 number: \"))\n",
        "\n",
        "maior = 0\n",
        "\n",
        "if n1 > n2:\n",
        "  print('o n1 eh maior')\n",
        "elif n2 > n1:\n",
        "  print('o n2 eh maior')\n",
        "else:\n",
        "  print('os dois sao enguais')"
      ],
      "metadata": {
        "id": "GJlGnzjc-xyF",
        "colab": {
          "base_uri": "https://localhost:8080/"
        },
        "outputId": "d5fb4a21-54a0-4bb0-92ad-417b1f0bd7a4"
      },
      "execution_count": null,
      "outputs": [
        {
          "output_type": "stream",
          "name": "stdout",
          "text": [
            "1 number: 4\n",
            "2 number: 4\n",
            "os dois sao enguais\n"
          ]
        }
      ]
    },
    {
      "cell_type": "markdown",
      "source": [
        "#### Questão 2\n",
        "Escreva um programa que solicite o percentual de crescimento de produção de uma empresa e informe se houve um crescimento (porcentagem positiva) ou decrescimento (porcentagem negativa)."
      ],
      "metadata": {
        "id": "H4sgN7dyHNJF"
      }
    },
    {
      "cell_type": "code",
      "source": [
        "variacao = float(input('Digite o percentual de crescimento: '))\n",
        "\n",
        "if variacao > 0:\n",
        "    print(f'Houve um crescimento de {variacao}%')\n",
        "elif variacao < 0:\n",
        "    print(f'Houve um decrescimento de {variacao}%')\n",
        "else:\n",
        "    print('Não houve crescimento ou decrescimento.')"
      ],
      "metadata": {
        "id": "-2_Ry5XJ-yZW",
        "colab": {
          "base_uri": "https://localhost:8080/"
        },
        "outputId": "1d06f53f-e595-427f-f22a-9fb2c9486edb"
      },
      "execution_count": null,
      "outputs": [
        {
          "output_type": "stream",
          "name": "stdout",
          "text": [
            "Digite o percentual de crescimento: -90\n",
            "Houve um decrescimento de -90.0%\n"
          ]
        }
      ]
    },
    {
      "cell_type": "markdown",
      "source": [
        "#### Questão 3\n",
        "Escreva um programa que determine se uma letra fornecida pela pessoa usuária é uma vogal ou consoante."
      ],
      "metadata": {
        "id": "a_mzNOBDHNny"
      }
    },
    {
      "cell_type": "code",
      "source": [
        "letra = input('forneca uma letra: ')\n",
        "\n",
        "if letra in ['a', 'e', 'i', 'o', 'u']:\n",
        "  print('vogal')\n",
        "else:\n",
        "  print('consoante')"
      ],
      "metadata": {
        "id": "NbgndVyg-zFJ",
        "colab": {
          "base_uri": "https://localhost:8080/"
        },
        "outputId": "16f94e0d-f4e0-4502-ad5f-af52d15de598"
      },
      "execution_count": null,
      "outputs": [
        {
          "output_type": "stream",
          "name": "stdout",
          "text": [
            "forneca uma letra: u\n",
            "vogal\n"
          ]
        }
      ]
    },
    {
      "cell_type": "markdown",
      "source": [
        "#### Questão 4\n",
        "Escreva um programa que leia valores médios de preços de um modelo de carro por 3 anos consecutivos e exiba o valor mais alto e mais baixo entre esses três anos."
      ],
      "metadata": {
        "id": "mofMRjSZHP99"
      }
    },
    {
      "cell_type": "code",
      "source": [
        "p_ano1 = int(input('fornça o preco no 1 ano: '))\n",
        "p_ano2 = int(input('fornça o preco no 2 ano: '))\n",
        "p_ano3 = int(input('fornça o preco no 3 ano: '))\n",
        "\n",
        "maior = p_ano1\n",
        "\n",
        "if p_ano2 > maior:\n",
        "  maior = p_ano2\n",
        "if p_ano3 > maior:\n",
        "  maior = p_ano3\n",
        "\n",
        "menor = p_ano1\n",
        "\n",
        "if p_ano2 < menor:\n",
        "  menor = p_ano2\n",
        "\n",
        "if p_ano3 < menor:\n",
        "  maior = p_ano3\n",
        "\n",
        "\n",
        "print(f'menor preco = {menor}')\n",
        "print(f'maior preco = {maior}')\n"
      ],
      "metadata": {
        "colab": {
          "base_uri": "https://localhost:8080/"
        },
        "id": "H4yHVFx1eKzG",
        "outputId": "2e235f8f-28f0-4a3e-ed01-9d9f9a91c48d"
      },
      "execution_count": null,
      "outputs": [
        {
          "output_type": "stream",
          "name": "stdout",
          "text": [
            "fornça o preco no 1 ano: 10\n",
            "fornça o preco no 2 ano: 40\n",
            "fornça o preco no 3 ano: 76\n",
            "menor preco = 10\n",
            "maior preco = 76\n"
          ]
        }
      ]
    },
    {
      "cell_type": "markdown",
      "source": [
        "#### Questão 5\n",
        "Escreva um programa que pergunte sobre o preço de três produtos e indique qual é o produto mais barato para comprar."
      ],
      "metadata": {
        "id": "jY5tIwd-HQzc"
      }
    },
    {
      "cell_type": "code",
      "source": [
        "p_1 = int(input('fornça o preco  1 : '))\n",
        "p_2 = int(input('fornça o preco  2 : '))\n",
        "p_3 = int(input('fornça o preco  3 : '))\n",
        "\n",
        "if (p_1 < p_2) and (p_1 < p_3):\n",
        "  print(f'mais barato é o p1 = {p_1}')\n",
        "elif (p_2 < p_1) and (p_2 < p_3):\n",
        "  print(f'mais barato é o p2 = {p_2}')\n",
        "else:\n",
        "  print(f'mais barato é o p3 = {p_3}')\n"
      ],
      "metadata": {
        "id": "sYqNh9df-0gk",
        "colab": {
          "base_uri": "https://localhost:8080/"
        },
        "outputId": "98b855dc-e11e-4309-c4b0-1859d1013d57"
      },
      "execution_count": null,
      "outputs": [
        {
          "output_type": "stream",
          "name": "stdout",
          "text": [
            "fornça o preco  1 : 5\n",
            "fornça o preco  2 : 9\n",
            "fornça o preco  3 : 15\n",
            "mais barato é o p1 = 5\n"
          ]
        }
      ]
    },
    {
      "cell_type": "markdown",
      "source": [
        "#### Questão 6\n",
        "Escreva um programa que leia três números e os exiba em ordem decrescente."
      ],
      "metadata": {
        "id": "1r6aVxtTHR4E"
      }
    },
    {
      "cell_type": "code",
      "source": [
        "n1 = int(input('forneça o 1 : '))\n",
        "n2 = int(input('forneça o 2 : '))\n",
        "n3 = int(input('forneça o 3 : '))\n",
        "\n",
        "if (n1 >= n2) and (n1 >= n3):\n",
        "  print(n1)\n",
        "  if (n2 >= n3):\n",
        "    print(n2)\n",
        "    print(n3)\n",
        "  else:\n",
        "    print(n3)\n",
        "    print(n2)\n",
        "elif (n2 >= n1) and (n2 >= n3):\n",
        "  print(n2)\n",
        "  if (n1 >= n3):\n",
        "    print(n1)\n",
        "    print(n3)\n",
        "  else:\n",
        "    print(n3)\n",
        "    print(n1)\n",
        "else:\n",
        "  print(n3)\n",
        "  if (n1 >= n2):\n",
        "    print(n1)\n",
        "    print(n2)\n",
        "  else:\n",
        "    print(n2)\n",
        "    print(n1)"
      ],
      "metadata": {
        "id": "ydOCYUMO-0Hk",
        "colab": {
          "base_uri": "https://localhost:8080/"
        },
        "outputId": "88ecd79f-7b6b-4679-b858-588d1bb40a2e"
      },
      "execution_count": null,
      "outputs": [
        {
          "output_type": "stream",
          "name": "stdout",
          "text": [
            "forneça o 1 : 6\n",
            "forneça o 2 : 4\n",
            "forneça o 3 : 8\n",
            "8\n",
            "6\n",
            "4\n"
          ]
        }
      ]
    },
    {
      "cell_type": "markdown",
      "source": [
        "#### Questão 7\n",
        "Escreva um programa que pergunte em qual turno a pessoa usuária estuda (\"manhã\", \"tarde\" ou \"noite\") e exiba a mensagem \"Bom Dia!\", \"Boa Tarde!\", \"Boa Noite!\", ou \"Valor Inválido!\", conforme o caso."
      ],
      "metadata": {
        "id": "inW3F-hAHS_X"
      }
    },
    {
      "cell_type": "code",
      "source": [
        "turno = input('qual turno? ')\n",
        "\n",
        "if turno == 'manhã':\n",
        "  print('bom dia')\n",
        "elif turno == 'tarde':\n",
        "  print('boa noite')\n",
        "elif turno == 'noite':\n",
        "  print('boa noite')\n",
        "else:\n",
        "  print('valor invalido')\n"
      ],
      "metadata": {
        "id": "-_q-Pcr_-zth",
        "colab": {
          "base_uri": "https://localhost:8080/"
        },
        "outputId": "d213b890-0db3-42ca-b761-77a89ba3cb13"
      },
      "execution_count": null,
      "outputs": [
        {
          "output_type": "stream",
          "name": "stdout",
          "text": [
            "qual turno? jdjd\n",
            "valor invalido\n"
          ]
        }
      ]
    },
    {
      "cell_type": "markdown",
      "source": [
        "#### Questão 8\n",
        "Escreva um programa que peça um número inteiro à pessoa usuária e determine se ele é par ou ímpar. Dica: Você pode utilizar o operador módulo `%`."
      ],
      "metadata": {
        "id": "NCCPF3QqHTw-"
      }
    },
    {
      "cell_type": "code",
      "source": [
        "number = int(input('digite um número: '))\n",
        "\n",
        "if number % 2  == 0:\n",
        "  print(f\"{number} é par\")\n",
        "else:\n",
        "  print(f\"{number} é ímpar\")"
      ],
      "metadata": {
        "id": "OmZJt1nQ-3e6",
        "colab": {
          "base_uri": "https://localhost:8080/"
        },
        "outputId": "16740857-c6a3-4244-ef04-523ef908b707"
      },
      "execution_count": null,
      "outputs": [
        {
          "output_type": "stream",
          "name": "stdout",
          "text": [
            "digite um número: 8\n",
            "8 é par\n"
          ]
        }
      ]
    },
    {
      "cell_type": "markdown",
      "source": [
        "#### Questão 9\n",
        "Escreva um programa que peça um número à pessoa usuária e informe se ele é inteiro ou decimal."
      ],
      "metadata": {
        "id": "h93Ck1tQHUwE"
      }
    },
    {
      "cell_type": "code",
      "source": [
        "number = float(input('forneça um numero:'))\n",
        "\n",
        "if number % 1 == 0:\n",
        "  print('inteiro')\n",
        "else:\n",
        "  print('decimal')"
      ],
      "metadata": {
        "id": "sLMlZcx8-20N",
        "colab": {
          "base_uri": "https://localhost:8080/"
        },
        "outputId": "2642f60f-9c8a-4c85-fea3-dea8949c6464"
      },
      "execution_count": null,
      "outputs": [
        {
          "output_type": "stream",
          "name": "stdout",
          "text": [
            "forneça um numero:9\n",
            "inteiro\n"
          ]
        }
      ]
    },
    {
      "cell_type": "markdown",
      "source": [
        "### Momento dos projetos"
      ],
      "metadata": {
        "id": "bKdXSK1SH_pF"
      }
    },
    {
      "cell_type": "markdown",
      "source": [
        "#### Questão 10\n",
        "Um programa deve ser escrito para ler dois números e, em seguida, perguntar à pessoa usuária qual operação ele deseja realizar. O resultado da operação deve incluir informações sobre o número - se é par ou ímpar, positivo ou negativo e inteiro ou decimal."
      ],
      "metadata": {
        "id": "WBlEyyzsHV86"
      }
    },
    {
      "cell_type": "code",
      "source": [
        "n1 = float(input('informe o n1:'))\n",
        "n2 = float(input('informe o n2:'))\n",
        "op = input('informe a operação: [+, -, *, /]')\n",
        "\n",
        "if op == '+':\n",
        "  resultado = n1 + n2\n",
        "elif op == '-':\n",
        "  resultado = n1 - n2\n",
        "elif op == '*':\n",
        "  resultado = n1 * n2\n",
        "elif op == '/':\n",
        "  resultado = n1/n2\n",
        "else:\n",
        "  print('operação inválida')\n",
        "  resultado = 0\n",
        "\n",
        "if resultado % 1 == 0:\n",
        "  print(f'o resultado: {resultado} é inteiro')\n",
        "else:\n",
        "  print(f'o resultado: {resultado} é decimal')\n",
        "\n",
        "if resultado % 2 == 0:\n",
        "  print(f'o resultado: {resultado} é par')\n",
        "else:\n",
        "  print(f'o resultado: {resultado} é ímpar')\n",
        "\n",
        "if resultado > 0:\n",
        "  print(f'o resultado: {resultado} é positivo')\n",
        "else:\n",
        "  print(f'o resultado: {resultado} é negativo')"
      ],
      "metadata": {
        "id": "3jmahZ0f-2gq",
        "colab": {
          "base_uri": "https://localhost:8080/"
        },
        "outputId": "75cf45ae-4e95-4a5c-98bc-52ae4fb4b4ad"
      },
      "execution_count": null,
      "outputs": [
        {
          "output_type": "stream",
          "name": "stdout",
          "text": [
            "informe o n1:9\n",
            "informe o n2:5\n",
            "informe a operação: [+, -, *, /]/\n",
            "o resultado: 1.8 é decimal\n",
            "o resultado: 1.8 é ímpar\n",
            "o resultado: 1.8 é positivo\n"
          ]
        }
      ]
    },
    {
      "cell_type": "markdown",
      "source": [
        "#### Questão 11\n",
        "Escreva um programa que peça à pessoa usuária três números que representam os lados de um triângulo. O programa deve informar se os valores podem ser utilizados para formar um triângulo e, caso afirmativo, se ele é equilátero, isósceles ou escaleno. Tenha em mente algumas dicas:\n",
        "- Três lados formam um triângulo quando a soma de quaisquer dois lados for maior que o terceiro;\n",
        "- Triângulo Equilátero: três lados iguais;\n",
        "- Triângulo Isósceles: quaisquer dois lados iguais;\n",
        "- Triângulo Escaleno: três lados diferentes;\n"
      ],
      "metadata": {
        "id": "VdnlULxHHW19"
      }
    },
    {
      "cell_type": "code",
      "source": [
        "l1 = float(input('informe o lado 1:'))\n",
        "l2 = float(input('informe o lado 2:'))\n",
        "l3 = float(input('informe o lado 3:'))\n",
        "\n",
        "if (l1 + l2 > l3) and (l1 + l3 > l2) and (l2 + l3 > l1):\n",
        "  print('válido para formar um triangulo')\n",
        "  if ( l1 == l2 == l3):\n",
        "    print('triangulo equilatero')\n",
        "  elif (l1 == l2 != l3) or ( l1 == l3 != l2) or ( l3 == l2 != l1):\n",
        "    print('triangulo isoceles')\n",
        "  else:\n",
        "    print('triangulo escaleno')\n",
        "else:\n",
        "  print('inválido para formar um triangulo')"
      ],
      "metadata": {
        "id": "0z73sqUO-2Pw",
        "colab": {
          "base_uri": "https://localhost:8080/"
        },
        "outputId": "6116e4b0-d96f-40c5-acf4-2c4e6dafe2ff"
      },
      "execution_count": null,
      "outputs": [
        {
          "output_type": "stream",
          "name": "stdout",
          "text": [
            "informe o lado 1:0\n",
            "informe o lado 2:1\n",
            "informe o lado 3:2\n",
            "inválido para formar um triangulo\n"
          ]
        }
      ]
    },
    {
      "cell_type": "markdown",
      "source": [
        "#### Questão 12\n",
        "Um estabelecimento está vendendo combustíveis com descontos variados. Para o etanol, se a quantidade comprada for até 15 litros, o desconto será de 2% por litro. Caso contrário, será de 4% por litro. Para o diesel, se a quantidade comprada for até 15 litros, o desconto será de 3% por litro. Caso contrário, será de 5% por litro. O preço do litro de diesel é R\\$ 2,00 e o preço do litro de etanol é R\\$ 1,70. Escreva um programa que leia a quantidade de litros vendidos e o tipo de combustível (E para etanol e D para diesel) e calcule o valor a ser pago pelo cliente. Tenha em mente algumas dicas:\n",
        "\n",
        "- O do valor do desconto será a multiplicação entre preço do litro, quantidade de litros e o valor do desconto.\n",
        "- O valor a ser pago por um cliente será o resultado da multiplicação do preço do litro pela quantidade de litros menos o valor de desconto resultante do cálculo.\n"
      ],
      "metadata": {
        "id": "_PpEpOugHXwZ"
      }
    },
    {
      "cell_type": "code",
      "source": [
        "tipo = input('digite E para etanol e D para Diesel: ')\n",
        "qnt = int(input('qntd de litros: '))\n",
        "\n",
        "if tipo == 'E':\n",
        "  if qnt <= 15:\n",
        "   desconto = 0.02\n",
        "  else:\n",
        "    desconto = 0.04\n",
        "  valor_desconto= qnt * desconto * 2\n",
        "  valor_pago = (qnt * 2) - valor_desconto\n",
        "elif tipo == 'D':\n",
        "  if qnt <=15:\n",
        "    desconto = 0.03\n",
        "  else:\n",
        "    desconto = 0.05\n",
        "  valor_desconto= qnt * desconto * 1.7\n",
        "  valor_pago = (qnt * 1.7) - valor_desconto\n",
        "else:\n",
        "  print('escolher valor válido')\n",
        "  valor_pago = 0\n",
        "\n",
        "print(f'o valor pago é igual a: {valor_pago}')\n"
      ],
      "metadata": {
        "id": "9izoF-0O-1yD",
        "colab": {
          "base_uri": "https://localhost:8080/"
        },
        "outputId": "44c207ea-ba5b-44df-ecb5-19eb3940118b"
      },
      "execution_count": null,
      "outputs": [
        {
          "output_type": "stream",
          "name": "stdout",
          "text": [
            "digite E para etanol e D para Diesel: a\n",
            "qntd de litros: 90\n",
            "escolher valor válido\n",
            "o valor pago é igual a: 0\n"
          ]
        }
      ]
    },
    {
      "cell_type": "markdown",
      "source": [
        "#### Questão 13\n",
        "Em uma empresa de venda de imóveis você precisa criar um código que analise os dados de vendas anuais para ajudar a diretoria na tomada de decisão. O código precisa coletar os dados de quantidade de venda durante os anos de 2022 e 2023 e fazer um cálculo de variação percentual. A partir do valor da variação, deve ser enviada às seguintes sugestões:\n",
        "- Para variação acima de 20%: bonificação para o time de vendas.\n",
        "- Para variação entre 2% e 20%: pequena bonificação para time de vendas.\n",
        "- Para variação entre 2% e -10%: planejamento de políticas de incentivo às vendas.\n",
        "- Para bonificações abaixo de -10%: corte de gastos.\n"
      ],
      "metadata": {
        "id": "s_XS_D1WHY2R"
      }
    },
    {
      "cell_type": "code",
      "source": [
        "vendas_2022 = float(input('quantidade de vendas de 2022:'))\n",
        "vendas_2023 = float(input('quantidade de vendas de 2023:'))"
      ],
      "metadata": {
        "id": "avQrYlUg-w8f"
      },
      "execution_count": null,
      "outputs": []
    },
    {
      "cell_type": "markdown",
      "source": [
        "## Aula 4 - Estruturas de repetição"
      ],
      "metadata": {
        "id": "AuaWh4-d2Itt"
      }
    },
    {
      "cell_type": "markdown",
      "source": [
        "### Aquecendo na programação"
      ],
      "metadata": {
        "id": "6MSqU0sIJRdD"
      }
    },
    {
      "cell_type": "markdown",
      "source": [
        "#### Questão 1\n",
        "Escreva um programa que peça dois números inteiros e imprima todos os números inteiros entre eles."
      ],
      "metadata": {
        "id": "9eGGyCnAJRdQ"
      }
    },
    {
      "cell_type": "code",
      "source": [
        "n1 = int(input('digite o primeiro numero: '))\n",
        "n2 = int(input('digite o segundo numero: '))\n",
        "\n",
        "if n1 < n2:\n",
        "  for i in range(n1+1, n2): # +1 pq queremos os numero ENTRE, ou seja, o 3 n inclui-se\n",
        "    print(i)\n",
        "elif n1 > n2:\n",
        "  for i in range(n2+1, n1): # qnd o n2 for menor q o n1, o menor tem que vir antes do maior\n",
        "    print(i)\n",
        "else:\n",
        "  print('os numeros são iguais') # n pode imprimir nd se forem enguais"
      ],
      "metadata": {
        "id": "ID1oc1hxJRdQ",
        "colab": {
          "base_uri": "https://localhost:8080/"
        },
        "outputId": "ae432d97-4b86-4128-83ab-566a0edcde19"
      },
      "execution_count": null,
      "outputs": [
        {
          "output_type": "stream",
          "name": "stdout",
          "text": [
            "digite o primeiro numero: 1\n",
            "digite o segundo numero: 1\n",
            "os numeros são iguais\n"
          ]
        }
      ]
    },
    {
      "cell_type": "markdown",
      "source": [
        "#### Questão 2\n",
        "Escreva um programa para calcular quantos dias levará para a colônia de uma bactéria A ultrapassar ou igualar a colônia de uma bactéria B, com base nas taxas de crescimento de 3% e 1,5% respectivamente. Considere que a colônia A inicia com 4 elementos e a colônia B com 10 elementos."
      ],
      "metadata": {
        "id": "mGonEHYCJRdR"
      }
    },
    {
      "cell_type": "code",
      "source": [
        "colonia_A = 4\n",
        "colonia_B = 10\n",
        "\n",
        "taxa_A = 0.03\n",
        "taxa_B = 0.015\n",
        "\n",
        "t = 0\n",
        "\n",
        "# a cada iteração A e B vão ter seu valor modificado e vai parar qnd o valor de A for <= B\n",
        "while colonia_A <= colonia_B:\n",
        "  colonia_A *= 1+ taxa_A\n",
        "  colonia_B *= 1 + taxa_B\n",
        "  t +=1\n",
        "\n",
        "print(f'o tempo pra ultrapassar eh {t} dias')"
      ],
      "metadata": {
        "id": "wM6FJuoqJRdR",
        "colab": {
          "base_uri": "https://localhost:8080/"
        },
        "outputId": "47f9fb94-2ff2-438d-9471-490c5e6e4593"
      },
      "execution_count": null,
      "outputs": [
        {
          "output_type": "stream",
          "name": "stdout",
          "text": [
            "o tempo pra ultrapassar eh 63 dias\n"
          ]
        }
      ]
    },
    {
      "cell_type": "markdown",
      "source": [
        "#### Questão 3\n",
        "Para tratar uma quantidade de 15 dados de avaliações de pessoas usuárias de um serviço da empresa, precisamos verificar se as notas são válidas. Então, escreva um programa que vai receber a nota de 0 a 5 de todos os dados e verificar se é um valor válido. Caso seja inserido uma nota acima de 5 ou abaixo de 0, repita até que a pessoa usuária insira um valor válido."
      ],
      "metadata": {
        "id": "UiOZRlqoJRdR"
      }
    },
    {
      "cell_type": "code",
      "source": [
        "notas = []\n",
        "\n",
        "for i in range(6):\n",
        "  nota = float(input(f'digite a nota {i}: '))\n",
        "  while (nota < 0) or (nota > 5):\n",
        "    nota = float(input(f'nota inválida, insira novamente {i}: '))\n",
        "\n",
        "  notas.append(nota)\n",
        "\n",
        "print(notas)"
      ],
      "metadata": {
        "id": "3TUAhCxcJRdR",
        "colab": {
          "base_uri": "https://localhost:8080/"
        },
        "outputId": "00305a4e-8025-4cc9-c8e1-bd14aa557641"
      },
      "execution_count": null,
      "outputs": [
        {
          "output_type": "stream",
          "name": "stdout",
          "text": [
            "digite a nota 0: 1\n",
            "digite a nota 1: 2\n",
            "digite a nota 2: 3\n",
            "digite a nota 3: 4\n",
            "digite a nota 4: 5\n",
            "digite a nota 5: 6\n",
            "nota inválida, insira novamente 5: 2\n",
            "[1.0, 2.0, 3.0, 4.0, 5.0, 2.0]\n"
          ]
        }
      ]
    },
    {
      "cell_type": "markdown",
      "source": [
        "#### Questão 4\n",
        "Desenvolva um programa que leia um conjunto indeterminado de temperaturas em Celsius e faça uma análise. Portanto, escreva um programa que leia temperaturas e informe a média delas. A leitura deve ser encerrada ao ser enviado o valor -273°C."
      ],
      "metadata": {
        "id": "ABv3KObGJRdR"
      }
    },
    {
      "cell_type": "code",
      "source": [
        "T = float(input('digite a temperatura: '))\n",
        "temperaturas = []\n",
        "\n",
        "while T != -273:\n",
        "  temperaturas.append(T)\n",
        "  T = float(input(f'digite a temperatuda: '))\n",
        "\n",
        "print(temperaturas)\n",
        "\n",
        "media = sum(temperaturas)/len(temperaturas)\n",
        "print(media)"
      ],
      "metadata": {
        "id": "85tBBj5KJRdS",
        "colab": {
          "base_uri": "https://localhost:8080/"
        },
        "outputId": "a4ecb5e8-1a51-400d-f1ed-72a467b6cc0b"
      },
      "execution_count": null,
      "outputs": [
        {
          "output_type": "stream",
          "name": "stdout",
          "text": [
            "digite a temperatura: 10\n",
            "digite a temperatuda: 10\n",
            "digite a temperatuda: 10\n",
            "digite a temperatuda: 10\n",
            "digite a temperatuda: -273\n",
            "[10.0, 10.0, 10.0, 10.0]\n",
            "10.0\n"
          ]
        }
      ]
    },
    {
      "cell_type": "markdown",
      "source": [
        "#### Questão 5\n",
        "Escreva um programa que calcule o fatorial de um número inteiro fornecido pela pessoa usuária. O fatorial de um número inteiro é a multiplicação desse número por todos os seus antecessores até o número 1. Por exemplo, o fatorial de 5 é 5 x 4 x 3 x 2 x 1 = 120."
      ],
      "metadata": {
        "id": "IjkbAfGcJRdS"
      }
    },
    {
      "cell_type": "code",
      "source": [
        "number = int(input('digite um numero:'))\n",
        "\n",
        "fatorial = 1\n",
        "\n",
        "i = number\n",
        "\n",
        "while i > 0:\n",
        "  fatorial *= i\n",
        "  i -= 1\n",
        "\n",
        "print(f'fatorial de {number}= {fatorial}')"
      ],
      "metadata": {
        "id": "7RTH8o0HJRdS",
        "colab": {
          "base_uri": "https://localhost:8080/"
        },
        "outputId": "a9789565-7f73-4c4a-8630-6c5c19a977f1"
      },
      "execution_count": null,
      "outputs": [
        {
          "output_type": "stream",
          "name": "stdout",
          "text": [
            "digite um numero:4\n",
            "fatorial de 4= 24\n"
          ]
        }
      ]
    },
    {
      "cell_type": "markdown",
      "source": [
        "### Momento dos projetos"
      ],
      "metadata": {
        "id": "oGNKuQjsJRdT"
      }
    },
    {
      "cell_type": "markdown",
      "source": [
        "#### Questão 6\n",
        "Escreva um programa que gere a tabuada de um número inteiro de 1 a 10, de acordo com a escolha da pessoa usuária. Como exemplo, para o número 2, a tabuada deve ser mostrada no seguinte formato:\n",
        "```\n",
        "Tabuada do 2:\n",
        "2 x 1 = 2\n",
        "2 x 2 = 4\n",
        "[...]\n",
        "2 x 10 = 20\n",
        "```"
      ],
      "metadata": {
        "id": "ODxaTUYmJRdS"
      }
    },
    {
      "cell_type": "code",
      "source": [
        "numero = int(input('digite o número de 1 a 10:'))\n",
        "\n",
        "for i in range(1, 11):\n",
        "  mul = numero * i\n",
        "  print(f\"{numero} x {i} = {mul}\")"
      ],
      "metadata": {
        "id": "lkTlbxPIJRdS",
        "colab": {
          "base_uri": "https://localhost:8080/"
        },
        "outputId": "3599411a-f51f-4a55-dcc1-88764e5528a5"
      },
      "execution_count": null,
      "outputs": [
        {
          "output_type": "stream",
          "name": "stdout",
          "text": [
            "digite o número de 1 a 10:2\n",
            "2 x 1 = 2\n",
            "2 x 2 = 4\n",
            "2 x 3 = 6\n",
            "2 x 4 = 8\n",
            "2 x 5 = 10\n",
            "2 x 6 = 12\n",
            "2 x 7 = 14\n",
            "2 x 8 = 16\n",
            "2 x 9 = 18\n",
            "2 x 10 = 20\n"
          ]
        }
      ]
    },
    {
      "cell_type": "markdown",
      "source": [
        "#### Questão 7\n",
        "Os números primos possuem várias aplicações dentro da Ciência de Dados, por exemplo, na criptografia e segurança. Um número primo é aquele que é divisível apenas por um e por ele mesmo. Faça um programa que peça um número inteiro e determine se ele é ou não um número primo."
      ],
      "metadata": {
        "id": "LeIbnt8VJRdS"
      }
    },
    {
      "cell_type": "code",
      "source": [
        "num = int(input(\"digite um número: \"))\n",
        "\n",
        "# numero inteiros  iguais ou abaixo de 1 não são primos\n",
        "\n",
        "if (num > 1):\n",
        "  for i in range(2, num):\n",
        "    if (num%i) == 0:\n",
        "        # verificamos todos os restos de divisões entre todos os números abaixo de num\n",
        "        # se algum resto for 0, então ele é divisível por outro número além dele e 1\n",
        "      print(f'{num} não é primo')\n",
        "      break\n",
        "  else:\n",
        "      print(f\"{num} é primo\")\n",
        "else:\n",
        "  print(f\"{num} não é primo\")"
      ],
      "metadata": {
        "id": "2rcNU7twJRdS",
        "colab": {
          "base_uri": "https://localhost:8080/"
        },
        "outputId": "d479764b-6bce-4271-adce-13f042a788cf"
      },
      "execution_count": null,
      "outputs": [
        {
          "output_type": "stream",
          "name": "stdout",
          "text": [
            "digite um número: 1\n",
            "1 não é primo\n"
          ]
        }
      ]
    },
    {
      "cell_type": "markdown",
      "source": [
        "#### Questão 8\n",
        "Vamos entender a distribuição de idades de pensionistas de uma empresa de previdência. Escreva um programa que leia as idades de uma quantidade não informada de clientes e mostre a distribuição em intervalos de [0-25], [26-50], [51-75] e [76-100]. Encerre a entrada de dados com um número negativo."
      ],
      "metadata": {
        "id": "QTwb6QaCJRdT"
      }
    },
    {
      "cell_type": "code",
      "source": [
        "idade = int(input('digite a idade: '))\n",
        "contador_0_25 = 0\n",
        "contador_26_50 = 0\n",
        "contador_51_75 = 0\n",
        "contador_76_100 = 0\n",
        "\n",
        "while idade >= 0:\n",
        "  if idade >= 0 and idade <= 25:\n",
        "    contador_0_25 += 1\n",
        "  elif idade >= 26 and idade <= 50:\n",
        "      contador_26_50 += 1\n",
        "  elif idade >= 51 and idade <= 75:\n",
        "      contador_51_75 += 1\n",
        "  elif idade >= 76 and idade <= 100:\n",
        "      contador_76_100 += 1\n",
        "  else:\n",
        "    print('idade inválida')\n",
        "  idade = int(input('digite a idade: '))\n",
        "\n",
        "print(f'[0-25]: {contador_0_25}')\n",
        "print(f'[26-50]: {contador_26_50}')\n",
        "print(f'[51-75]: {contador_51_75}')\n",
        "print(f'[76-100]: {contador_76_100}')"
      ],
      "metadata": {
        "id": "4IAhaDmYJRdT",
        "colab": {
          "base_uri": "https://localhost:8080/"
        },
        "outputId": "ec5747d8-7c62-474c-b57d-4523a620e90f"
      },
      "execution_count": null,
      "outputs": [
        {
          "output_type": "stream",
          "name": "stdout",
          "text": [
            "digite a idade: 1\n",
            "digite a idade: 2\n",
            "digite a idade: 3\n",
            "digite a idade: 26\n",
            "digite a idade: 28\n",
            "digite a idade: 51\n",
            "digite a idade: 77\n",
            "digite a idade: -1\n",
            "[0-25]: 3\n",
            "[26-50]: 2\n",
            "[51-75]: 1\n",
            "[76-100]: 1\n"
          ]
        }
      ]
    },
    {
      "cell_type": "markdown",
      "source": [
        "#### Questão 9\n",
        "Em uma eleição para gerência em uma empresa com 20 funcionários, existem quatro candidatos. Escreva um programa que calcule o vencedor da eleição. A votação ocorreu da seguinte maneira:\n",
        "- Cada funcionário votou em um dos quatro candidatos (representados pelos números 1, 2, 3 e 4).\n",
        "- Também foram contabilizados os votos nulos (representado pelo número 5) e os votos em branco (representado pelo número 6).\n",
        "\n",
        "Ao final da votação, o programa deve exibir o total de votos para cada candidato, o número de votos nulos e o número de votos em branco. Além disso, deve calcular e exibir a porcentagem de votos nulos em relação ao total de votos e a porcentagem de votos em branco em relação ao total de votos."
      ],
      "metadata": {
        "id": "soJCQVwRJRdT"
      }
    },
    {
      "cell_type": "code",
      "source": [
        "funcionarios = 20\n",
        "candidatos = 4\n",
        "\n",
        "votos_1 = 0\n",
        "votos_2 = 0\n",
        "votos_3 = 0\n",
        "votos_4 = 0\n",
        "votos_nulos = 0\n",
        "votos_branco = 0\n",
        "\n",
        "for i in range(funcionarios):\n",
        "  voto = int(input('informe seu voto: '))\n",
        "\n",
        "  if voto == 1:\n",
        "    votos_1 += 1\n",
        "  elif voto == 2:\n",
        "    votos_2 += 1\n",
        "  elif voto == 3:\n",
        "    votos_3 += 1\n",
        "  elif voto == 4:\n",
        "    votos_4 += 1\n",
        "  elif voto == 5:\n",
        "    votos_nulos +=1\n",
        "  elif voto == 6:\n",
        "    votos_branco +=1\n",
        "  else:\n",
        "    print('valor inválido')\n",
        "\n",
        "total_votos = votos_1 + votos_2 + votos_3 + votos_4\n",
        "\n",
        "print(f'total candidato 1 = {votos_1} ')\n",
        "print(f'total candidato 2 = {votos_2} ')\n",
        "print(f'total candidato 3 = {votos_3} ')\n",
        "print(f'total candidato 4 = {votos_4} ')\n",
        "print(f'porcentagem votos nulos = {(votos_nulos*100)/total_votos}')\n",
        "print(f'porcentagem votos brancos = {(votos_branco*100)/total_votos}')"
      ],
      "metadata": {
        "id": "041EFrgG-4gR",
        "colab": {
          "base_uri": "https://localhost:8080/"
        },
        "outputId": "2b079a52-5ad9-4625-a9e0-caeeed91ed32"
      },
      "execution_count": null,
      "outputs": [
        {
          "output_type": "stream",
          "name": "stdout",
          "text": [
            "informe seu voto: 1\n",
            "informe seu voto: 1\n",
            "informe seu voto: 1\n",
            "informe seu voto: 1\n",
            "informe seu voto: 2\n",
            "informe seu voto: 2\n",
            "informe seu voto: 2\n",
            "informe seu voto: 3\n",
            "informe seu voto: 3\n",
            "informe seu voto: 4\n",
            "informe seu voto: 5\n",
            "informe seu voto: 5\n",
            "informe seu voto: 6\n",
            "informe seu voto: 6\n",
            "informe seu voto: 5\n",
            "informe seu voto: 5\n",
            "informe seu voto: 6\n",
            "informe seu voto: 6\n",
            "informe seu voto: 3\n",
            "informe seu voto: 4\n",
            "total candidato 1 = 4 \n",
            "total candidato 2 = 3 \n",
            "total candidato 3 = 3 \n",
            "total candidato 4 = 2 \n",
            "porcentagem votos nulos = 33.333333333333336\n",
            "porcentagem votos brancos = 33.333333333333336\n"
          ]
        }
      ]
    },
    {
      "cell_type": "markdown",
      "source": [
        "## Aula 5 - Estruturas de dados"
      ],
      "metadata": {
        "id": "eijHQiNU2IZ7"
      }
    },
    {
      "cell_type": "markdown",
      "source": [
        "### Aquecendo na programação"
      ],
      "metadata": {
        "id": "92F0bKtBMgd7"
      }
    },
    {
      "cell_type": "markdown",
      "source": [
        "#### Questão 1\n",
        "Faça um programa que tenha a seguinte lista contendo os valores de gastos de uma empresa de papel `[2172.54, 3701.35, 3518.09, 3456.61, 3249.38, 2840.82, 3891.45, 3075.26, 2317.64, 3219.08]`. Com esses valores, faça um programa que calcule a média de gastos. Dica, use as funções built-in [`sum()`](https://docs.python.org/3/library/functions.html#sum) e [`len()`](https://docs.python.org/3/library/functions.html#len)."
      ],
      "metadata": {
        "id": "IypX2ANuMgeC"
      }
    },
    {
      "cell_type": "code",
      "source": [
        "lista = [2172.54, 3701.35, 3518.09, 3456.61, 3249.38, 2840.82, 3891.45, 3075.26, 2317.64, 3219.08]\n",
        "\n",
        "total = len(lista)\n",
        "soma = sum(lista)\n",
        "\n",
        "media = soma/total\n",
        "media"
      ],
      "metadata": {
        "id": "ge3LuFhLMgeD",
        "colab": {
          "base_uri": "https://localhost:8080/"
        },
        "outputId": "d232800b-26d2-43f7-e6aa-46dcf6a04f3f"
      },
      "execution_count": null,
      "outputs": [
        {
          "output_type": "execute_result",
          "data": {
            "text/plain": [
              "3144.222"
            ]
          },
          "metadata": {},
          "execution_count": 18
        }
      ]
    },
    {
      "cell_type": "markdown",
      "source": [
        "#### Questão 2\n",
        " Com os mesmos dados da questão anterior, defina quantas compras foram acima de 3000 reais e calcule a porcentagem quanto ao total de compras."
      ],
      "metadata": {
        "id": "xrOeLhQkMgeD"
      }
    },
    {
      "cell_type": "code",
      "source": [
        "total_acima = 0\n",
        "acima = []\n",
        "for i in lista:\n",
        "  if i > 3000:\n",
        "    total_acima+=1\n",
        "    acima.append(i)\n",
        "\n",
        "print(f'{total_acima} compras foram superiores a 3000 = {acima}')\n",
        "print(f'porcentagem em relação ao total = {(sum(acima) * 100)/ soma}')\n"
      ],
      "metadata": {
        "id": "Ygu5TMZyMgeD",
        "colab": {
          "base_uri": "https://localhost:8080/"
        },
        "outputId": "e75e79a0-c286-4bc5-9fa2-2197e3373953"
      },
      "execution_count": null,
      "outputs": [
        {
          "output_type": "stream",
          "name": "stdout",
          "text": [
            "7 compras foram superiores a 3000 = [3701.35, 3518.09, 3456.61, 3249.38, 3891.45, 3075.26, 3219.08]\n",
            "porcentagem em relação ao total = 76.68421631805896\n"
          ]
        }
      ]
    },
    {
      "cell_type": "markdown",
      "source": [
        "#### Questão 3\n",
        "Faça um código que colete em uma lista 5 números inteiros quaisquer e imprima a lista. Exemplo: `[1,4,7,2,4]`."
      ],
      "metadata": {
        "id": "JgCOrE_BMgeD"
      }
    },
    {
      "cell_type": "code",
      "source": [
        "lista = []\n",
        "\n",
        "for i in range(1,6):\n",
        "  number = int(input(f'digite o numero {i}:'))\n",
        "  lista.append(number)\n",
        "\n",
        "print(lista)"
      ],
      "metadata": {
        "id": "vtM9O1hLMgeD",
        "colab": {
          "base_uri": "https://localhost:8080/"
        },
        "outputId": "78e59ade-8ce1-42e4-ad2f-b086b4e93db7"
      },
      "execution_count": null,
      "outputs": [
        {
          "output_type": "stream",
          "name": "stdout",
          "text": [
            "digite o numero 1:1\n",
            "digite o numero 2:3\n",
            "digite o numero 3:4\n",
            "digite o numero 4:6\n",
            "digite o numero 5:7\n",
            "[1, 3, 4, 6, 7]\n"
          ]
        }
      ]
    },
    {
      "cell_type": "markdown",
      "source": [
        "#### Questão 4\n",
        "Colete novamente 5 inteiros e imprima a lista em ordem inversa à enviada."
      ],
      "metadata": {
        "id": "p3bTp88HMgeD"
      }
    },
    {
      "cell_type": "code",
      "source": [
        "lista = []\n",
        "\n",
        "for i in range(1,6):\n",
        "  number = int(input(f'digite o numero {i}:'))\n",
        "  lista.append(number)\n",
        "  lista.sort(reverse=True)\n",
        "\n",
        "print(lista)"
      ],
      "metadata": {
        "id": "-CGwMIyHMgeD",
        "colab": {
          "base_uri": "https://localhost:8080/"
        },
        "outputId": "77196a1b-a7ab-47c8-a723-c7b89c993608"
      },
      "execution_count": null,
      "outputs": [
        {
          "output_type": "stream",
          "name": "stdout",
          "text": [
            "digite o numero 1:1\n",
            "digite o numero 2:2\n",
            "digite o numero 3:3\n",
            "digite o numero 4:4\n",
            "digite o numero 5:5\n",
            "[5, 4, 3, 2, 1]\n"
          ]
        }
      ]
    },
    {
      "cell_type": "markdown",
      "source": [
        "#### Questão 5\n",
        "Faça um programa que, ao inserir um número qualquer, criará uma lista contendo todos os números primos entre 1 e o número digitado."
      ],
      "metadata": {
        "id": "eIXd_z1lMgeD"
      }
    },
    {
      "cell_type": "code",
      "source": [
        "numero = int(input('digite um numero: '))\n",
        "primos = []\n",
        "\n",
        "for num in range(2, numero+1):\n",
        "  primo = True\n",
        "  for i in range(2, num):\n",
        "    if (num%i) == 0:\n",
        "      primo = False\n",
        "    break\n",
        "  if primo:\n",
        "    primos.append(num)\n",
        "\n",
        "print(f\"Os números primos entre 1 e {numero} são: {primos}\")"
      ],
      "metadata": {
        "id": "rj_6GHstMgeE",
        "colab": {
          "base_uri": "https://localhost:8080/"
        },
        "outputId": "cadb0be0-2ce8-49e3-804a-0c2c53df3955"
      },
      "execution_count": null,
      "outputs": [
        {
          "output_type": "stream",
          "name": "stdout",
          "text": [
            "digite um numero: 18\n",
            "Os números primos entre 1 e 18 são: [2, 3, 5, 7, 9, 11, 13, 15, 17]\n"
          ]
        }
      ]
    },
    {
      "cell_type": "markdown",
      "source": [
        "#### Questão 6\n",
        "Escreva um programa que peça uma data informando o dia, mês e ano e determine se ela é uma data válida para uma análise."
      ],
      "metadata": {
        "id": "zrbz3ENlMgeE"
      }
    },
    {
      "cell_type": "code",
      "source": [
        "dia = int(input('Digite o dia: '))\n",
        "mes = int(input('Digite o mês: '))\n",
        "ano = int(input('Digite o ano: '))\n",
        "\n",
        "if mes == 2:\n",
        "  # é ou não um ano bissexto\n",
        "  if ano % 4 == 0 and (ano % 400 == 0 or ano % 100 != 0):\n",
        "    dias_fevereiro = 29\n",
        "  else:\n",
        "    dias_fevereiro = 28\n",
        "  # Verificamos se o dia colocado corresponde ao máximo de dias de fevereiro\n",
        "  if dia >= 1 and dia <= dias_fevereiro:\n",
        "    print('Data válida')\n",
        "  else:\n",
        "    print('Data inválida')\n",
        "# Verificamos meses terminados em 31 dias\n",
        "elif mes in [1, 3, 5, 7, 8, 10, 12]:\n",
        "  if dia >= 1 and dia <= 31:\n",
        "    print('Data válida')\n",
        "  else:\n",
        "    print('Data inválida')\n",
        "# Verificamos meses terminados em 30 dias\n",
        "elif mes in [4, 6, 9, 11]:\n",
        "  if dia >= 1 and dia <= 30:\n",
        "    print('Data válida')\n",
        "  else:\n",
        "    print('Data inválida')\n",
        "# Caso o mês não esteja entre 1 e 12\n",
        "else:\n",
        "  print('Data inválida')"
      ],
      "metadata": {
        "id": "0eYA8UjTMgeE",
        "colab": {
          "base_uri": "https://localhost:8080/"
        },
        "outputId": "d4ce460e-fb3e-4ff8-b86e-8c9709c9aa25"
      },
      "execution_count": null,
      "outputs": [
        {
          "output_type": "stream",
          "name": "stdout",
          "text": [
            "Digite o dia: 29\n",
            "Digite o mês: 02\n",
            "Digite o ano: 2022\n",
            "Data inválida\n"
          ]
        }
      ]
    },
    {
      "cell_type": "markdown",
      "source": [
        "### Momento dos projetos"
      ],
      "metadata": {
        "id": "ut_4VHdGMgeE"
      }
    },
    {
      "cell_type": "markdown",
      "source": [
        "#### Questão 7\n",
        "Para um estudo envolvendo o nível de multiplicação de bactérias em uma colônia, foi coletado o número de bactérias multiplicadas por dia, com base em um processo de duplicação diária e pode ser observado a seguir: `[1.2, 2.1, 3.3, 5.0, 7.8, 11.3, 16.6, 25.1, 37.8, 56.9]`. Tendo esses valores, faça um código que gere uma lista contendo o percentual de crescimento de bactérias por dia, comparando o número de bactérias em cada dia com o número de bactérias do dia anterior. Dica: para calcular o percentual de crescimento usamos a seguinte equação: `100 * (amostra_atual - amostra_passada) / (amostra_passada)`."
      ],
      "metadata": {
        "id": "G86Z0vD_MgeE"
      }
    },
    {
      "cell_type": "code",
      "source": [
        "colonia_bacterias = [1.2, 2.1, 3.3, 5.0, 7.8, 11.3, 16.6, 25.1, 37.8, 56.9]\n",
        "crescimento = []\n",
        "\n",
        "for i in range(1, len(colonia_bacterias)):\n",
        "  porcentagem = 100*(colonia_bacterias[i] - colonia_bacterias[i-1])/colonia_bacterias[i-1]\n",
        "  crescimento.append(porcentagem)\n",
        "  print(f'porcentagem de {i} = {porcentagem}')\n",
        "\n",
        "print(crescimento)"
      ],
      "metadata": {
        "id": "PXNO_CFkMgeE",
        "colab": {
          "base_uri": "https://localhost:8080/"
        },
        "outputId": "bc2e158a-29c6-4312-8881-d030775b5989"
      },
      "execution_count": null,
      "outputs": [
        {
          "output_type": "stream",
          "name": "stdout",
          "text": [
            "porcentagem de 1 = 75.00000000000001\n",
            "porcentagem de 2 = 57.142857142857125\n",
            "porcentagem de 3 = 51.51515151515153\n",
            "porcentagem de 4 = 56.0\n",
            "porcentagem de 5 = 44.87179487179489\n",
            "porcentagem de 6 = 46.90265486725664\n",
            "porcentagem de 7 = 51.20481927710843\n",
            "porcentagem de 8 = 50.59760956175297\n",
            "porcentagem de 9 = 50.52910052910054\n",
            "[75.00000000000001, 57.142857142857125, 51.51515151515153, 56.0, 44.87179487179489, 46.90265486725664, 51.20481927710843, 50.59760956175297, 50.52910052910054]\n"
          ]
        }
      ]
    },
    {
      "cell_type": "markdown",
      "source": [
        "#### Questão 8\n",
        "Para uma seleção de produtos alimentícios, precisamos separar o conjunto de IDs dados por números inteiros, sabendo que os produtos com ID par são doces e os com ID ímpar são amargos. Monte um código que colete 10 IDs. Depois, calcule e mostre a quantidade de produtos doces e amargos."
      ],
      "metadata": {
        "id": "p4nxogpnMgeE"
      }
    },
    {
      "cell_type": "code",
      "source": [
        "from prompt_toolkit.shortcuts.progress_bar.base import E\n",
        "doces = 0\n",
        "amargos = 0\n",
        "\n",
        "for i in range(10):\n",
        "  id = int(input('informe o id do produto: '))\n",
        "  if(id%2 == 0):\n",
        "    doces +=1\n",
        "  else:\n",
        "    amargos +=1\n",
        "\n",
        "print(f'total doces = {doces}')\n",
        "print(f'total amargos = {amargos}')"
      ],
      "metadata": {
        "id": "WqjO2SZkMgeE",
        "colab": {
          "base_uri": "https://localhost:8080/"
        },
        "outputId": "c6d25b45-4226-4274-a38e-7380619be1c0"
      },
      "execution_count": null,
      "outputs": [
        {
          "output_type": "stream",
          "name": "stdout",
          "text": [
            "informe o id do produto: 2\n",
            "informe o id do produto: 3\n",
            "informe o id do produto: 4\n",
            "informe o id do produto: 5\n",
            "informe o id do produto: 6\n",
            "informe o id do produto: 11\n",
            "informe o id do produto: 12\n",
            "informe o id do produto: 32\n",
            "informe o id do produto: 4\n",
            "informe o id do produto: 2\n",
            "total doces = 7\n",
            "total amargos = 3\n"
          ]
        }
      ]
    },
    {
      "cell_type": "markdown",
      "source": [
        "#### Questão 9\n",
        "Desenvolva um programa que informa a nota de um aluno de acordo com suas respostas. Ele deve pedir a resposta de um aluno para cada questão e é preciso verificar se a resposta foi igual ao gabarito. Cada questão vale um ponto e existem alternativas:  A, B, C ou D.\n",
        "```\n",
        "Gabarito da Prova:\n",
        "01 - D\n",
        "02 - A\n",
        "03 - C\n",
        "04 - B\n",
        "05 - A\n",
        "06 - D\n",
        "07 - C\n",
        "08 - C\n",
        "09 - A\n",
        "10 - B\n",
        "```"
      ],
      "metadata": {
        "id": "t5OrLxV6MgeE"
      }
    },
    {
      "cell_type": "code",
      "source": [
        "gabarito = ['D', 'A', 'C', 'B', 'A', 'D', 'C', 'C', 'A', 'B']\n",
        "respostas = []\n",
        "pontos = 0\n",
        "\n",
        "for i in range(0, 10):\n",
        "  resposta = input(f'sua resposta da questão {i + 1}: ').upper()\n",
        "  respostas.append(resposta)\n",
        "\n",
        "for i in range(0, 10):\n",
        "  if respostas[i] == gabarito[i]:\n",
        "    pontos+=1\n",
        "\n",
        "print(f'vc acertou {pontos} questões')"
      ],
      "metadata": {
        "id": "ytIQDJrQMgeE",
        "colab": {
          "base_uri": "https://localhost:8080/"
        },
        "outputId": "58ebfe67-45db-4d77-d6c5-8551e1b5df17"
      },
      "execution_count": null,
      "outputs": [
        {
          "output_type": "stream",
          "name": "stdout",
          "text": [
            "sua resposta da questão 1: a\n",
            "sua resposta da questão 2: b\n",
            "sua resposta da questão 3: c\n",
            "sua resposta da questão 4: d\n",
            "sua resposta da questão 5: d\n",
            "sua resposta da questão 6: a\n",
            "sua resposta da questão 7: b\n",
            "sua resposta da questão 8: c\n",
            "sua resposta da questão 9: c\n",
            "sua resposta da questão 10: a\n",
            "vc acertou 2 questões\n"
          ]
        }
      ]
    },
    {
      "cell_type": "markdown",
      "source": [
        "#### Questão 10\n",
        "Um instituto de meteorologia deseja fazer um estudo de temperatura média de cada mês do ano. Para isso, você precisa fazer um código que colete e armazene essas temperaturas médias em uma lista. Depois, calcule a média anual das temperaturas e mostre todas as temperaturas acima da média anual, e em que mês elas ocorreram, mostrando os meses por extenso: Janeiro, Fevereiro, etc."
      ],
      "metadata": {
        "id": "aSBMzh-AMgeF"
      }
    },
    {
      "cell_type": "code",
      "source": [
        "lista_temp = []\n",
        "meses = ['Janeiro', 'Fevereiro', 'Março', 'Abril', 'Maio', 'Junho', 'Julho', 'Agosto', 'Setembro', 'Outubro', 'Novembro', 'Dezembro']\n",
        "\n",
        "for i in range(1, 13):\n",
        "  mes_temp = int(input(f'digite a temperatura media do mes {i}: '))\n",
        "  lista_temp.append(mes_temp)\n",
        "\n",
        "print(lista_temp)\n",
        "\n",
        "media_ano = sum(lista_temp)/len(lista_temp)\n",
        "\n",
        "print(media_ano)\n",
        "\n",
        "print('temperaturas acima da média: ')\n",
        "for temp in range(0, 12):\n",
        "  if lista_temp[temp] > media_ano:\n",
        "    print(f'{3} = {temp}')"
      ],
      "metadata": {
        "id": "ftj04s2uMgeF",
        "colab": {
          "base_uri": "https://localhost:8080/"
        },
        "outputId": "03e99d87-6976-42d2-cecc-f3822cd47a83"
      },
      "execution_count": null,
      "outputs": [
        {
          "output_type": "stream",
          "name": "stdout",
          "text": [
            "digite a temperatura media do mes 1: 1\n",
            "digite a temperatura media do mes 2: 2\n",
            "digite a temperatura media do mes 3: 3\n",
            "digite a temperatura media do mes 4: 4\n",
            "digite a temperatura media do mes 5: 5\n",
            "digite a temperatura media do mes 6: 6\n",
            "digite a temperatura media do mes 7: 7\n",
            "digite a temperatura media do mes 8: 8\n",
            "digite a temperatura media do mes 9: 9\n",
            "digite a temperatura media do mes 10: 1\n",
            "digite a temperatura media do mes 11: 22\n",
            "digite a temperatura media do mes 12: 33\n",
            "[1, 2, 3, 4, 5, 6, 7, 8, 9, 1, 22, 33]\n",
            "8.416666666666666\n",
            "temperaturas acima da média: \n",
            "Setembro = 8\n",
            "Novembro = 10\n",
            "Dezembro = 11\n"
          ]
        }
      ]
    },
    {
      "cell_type": "markdown",
      "source": [
        "#### Questão 11\n",
        "Uma empresa de e-commerce está interessada em analisar as vendas dos seus produtos. Os dados das vendas foram armazenados em um dicionário:\n",
        "```\n",
        "{'Produto A': 300, 'Produto B': 80, 'Produto C': 60,\n",
        " 'Produto D': 200, 'Produto E': 250, 'Produto F': 30}\n",
        "```\n",
        "Escreva um código que calcule o total de vendas e o produto mais vendido."
      ],
      "metadata": {
        "id": "0X8S6s4jMgeF"
      }
    },
    {
      "cell_type": "code",
      "source": [
        "dados = {'Produto A': 300, 'Produto B': 80, 'Produto C': 60,\n",
        " 'Produto D': 200, 'Produto E': 250, 'Produto F': 30}\n",
        "\n",
        "maior_valor = 0\n",
        "produto_mais_vendido = ''\n",
        "\n",
        "# Para iterar pelas chaves e valores ao mesmo tempo, use .items()\n",
        "for produto, valor in dados.items():\n",
        "    if valor > maior_valor:\n",
        "        maior_valor = valor\n",
        "        produto_mais_vendido = produto\n",
        "\n",
        "total_vendas = sum(dados.values())\n",
        "\n",
        "print(f\"Total de vendas: {total_vendas}\")\n",
        "print(f\"Produto mais vendido: {produto_mais_vendido} com {maior_valor} unidades.\")"
      ],
      "metadata": {
        "id": "Xa3DJLtFMgeF",
        "colab": {
          "base_uri": "https://localhost:8080/"
        },
        "outputId": "693e5d02-9a6b-4cf0-fd43-769527ce8afb"
      },
      "execution_count": null,
      "outputs": [
        {
          "output_type": "stream",
          "name": "stdout",
          "text": [
            "Total de vendas: 920\n",
            "Produto mais vendido: Produto A com 300 unidades.\n"
          ]
        }
      ]
    },
    {
      "cell_type": "markdown",
      "source": [
        "#### Questão 12\n",
        "Uma pesquisa de mercado foi feita para decidir qual design de uma marca infantil mais agrada crianças. A pesquisa foi feita e o votos computados podem ser observados abaixo:\n",
        "```\n",
        "'''\n",
        "Tabela de votos da marca\n",
        "Design 1 - 1334 votos\n",
        "Design 2 - 982 votos\n",
        "Design 3 - 1751 votos\n",
        "Design 4 - 210 votos\n",
        "Design 5 - 1811 votos\n",
        "'''\n",
        "```\n",
        "Adapte os dados fornecidos a você para uma estrutura de dicionário e a partir dele, informe o design vencedor e a porcentagem de votos recebidos.\n"
      ],
      "metadata": {
        "id": "nrEwf_1ZMgeF"
      }
    },
    {
      "cell_type": "code",
      "source": [
        "votos = {'design 1': 1334, 'design 2': 982, 'design 3': 1751,\n",
        " 'design 4': 210, 'design 5': 1811}\n",
        "\n",
        "maior_voto = 0\n",
        "design_vencedor = ''\n",
        "\n",
        "for design, voto in votos.items():\n",
        "  if voto > maior_voto:\n",
        "    maior_voto = voto\n",
        "    design_vencedor = design\n",
        "\n",
        "\n",
        "total_votos = sum(votos.values())\n",
        "print(f'o design vencedor foi {design_vencedor} com uma porcentagem de {(maior_voto*100)/total_votos}')"
      ],
      "metadata": {
        "id": "MRPcGR-_MgeF",
        "colab": {
          "base_uri": "https://localhost:8080/"
        },
        "outputId": "aabd4877-a001-4c9b-f541-6ed0d9ede74e"
      },
      "execution_count": null,
      "outputs": [
        {
          "output_type": "stream",
          "name": "stdout",
          "text": [
            "o design vencedor foi design 5 com uma porcentagem de 29.747043363994745\n"
          ]
        }
      ]
    },
    {
      "cell_type": "markdown",
      "source": [
        "#### Questão 13\n",
        "Os funcionários de um setor da empresa que você trabalha vão receber um abono correspondente a 10% do seu salário devido ao ótimo desempenho do time. O setor financeiro solicitou sua ajuda para a verificação das consequências financeiras que esse abono irá gerar nos recursos. Assim, foi encaminhada para você uma lista com os salários que receberão o abono: `[1172, 1644, 2617, 5130, 5532, 6341, 6650, 7238, 7685, 7782, 7903]`. O abono de cada funcionário não pode ser inferior a 200. Em código, transforme cada um dos salários em chaves de um dicionário e o abono de cada salário no elemento. Depois, informe o total de gastos com o abono, quantos funcionários receberam o abono mínimo e qual o maior valor de abono fornecido.\n"
      ],
      "metadata": {
        "id": "HRTFFzKIMgeF"
      }
    },
    {
      "cell_type": "code",
      "source": [
        "salarios = [1172, 1644, 2617, 5130, 5532, 6341, 6650, 7238, 7685, 7782, 7903]\n",
        "dic_abonos = {}\n",
        "abono_minimo = 0\n",
        "abono_maximo = 0\n",
        "\n",
        "for salario in salarios:\n",
        "  abono = salario*0.1\n",
        "\n",
        "  if abono < 200:\n",
        "    abono = 200\n",
        "\n",
        "  dic_abonos[salario] = abono\n",
        "\n",
        "print(dic_abonos)\n",
        "\n",
        "for abono in dic_abonos.values():\n",
        "  if abono == 200:\n",
        "    abono_minimo += 1\n",
        "\n",
        "  if abono > abono_maximo:\n",
        "    abono_maximo = abono\n",
        "\n",
        "print(f'total de gastos com abono = {sum(dic_abonos.values())}')\n",
        "print(f'qnt de funcionários que receberam abono min = {abono_minimo}')\n",
        "print(f'maior valor de abono fornecido = {abono_maximo}')"
      ],
      "metadata": {
        "id": "QsDSCua42bLB",
        "colab": {
          "base_uri": "https://localhost:8080/"
        },
        "outputId": "d84ed81e-3d59-4061-8fa8-201a0abe035b"
      },
      "execution_count": null,
      "outputs": [
        {
          "output_type": "stream",
          "name": "stdout",
          "text": [
            "{1172: 200, 1644: 200, 2617: 261.7, 5130: 513.0, 5532: 553.2, 6341: 634.1, 6650: 665.0, 7238: 723.8000000000001, 7685: 768.5, 7782: 778.2, 7903: 790.3000000000001}\n",
            "total de gastos com abono = 6087.8\n",
            "qnt de funcionários que receberam abono min = 2\n",
            "maior valor de abono fornecido = 790.3000000000001\n"
          ]
        }
      ]
    },
    {
      "cell_type": "markdown",
      "source": [],
      "metadata": {
        "id": "i1amWsYJf3Lu"
      }
    },
    {
      "cell_type": "markdown",
      "source": [
        "#### Questão 14\n",
        "Uma equipe de cientistas de dados está estudando a diversidade biológica em uma floresta. A equipe fez a coleta de informações sobre o número de espécies de plantas e animais em cada área da floresta e armazenaram essas informações em um dicionário. Nele, a chave descreve a área dos dados e os valores nas listas correspondem às espécies de plantas e animais nas áreas, respectivamente.\n",
        "```\n",
        "{'Área Norte': [2819, 7236],\n",
        " 'Área Leste': [1440, 9492],\n",
        " 'Área Sul': [5969, 7496],\n",
        " 'Área Oeste': [14446, 49688],\n",
        " 'Área Centro': [22558, 45148]}\n",
        "```\n",
        "Escreva um código para calcular a média de espécies por área e identificar a área com a maior diversidade biológica. Dica: use as funções built-in [`sum()`](https://docs.python.org/3/library/functions.html#sum) e [`len()`](https://docs.python.org/3/library/functions.html#len).\n"
      ],
      "metadata": {
        "id": "6dEXZEwjMlWy"
      }
    },
    {
      "cell_type": "code",
      "source": [
        "dados = {'Área Norte': [2819, 7236],\n",
        " 'Área Leste': [1440, 9492],\n",
        " 'Área Sul': [5969, 7496],\n",
        " 'Área Oeste': [14446, 49688],\n",
        " 'Área Centro': [22558, 45148]}\n",
        "\n",
        "maior_diversidade = 0\n",
        "area_maior_diversidade = ''\n",
        "\n",
        "\n",
        "for area, especies in dados.items():\n",
        "  soma_especies = sum(especies)\n",
        "  media = soma_especies/len(especies)\n",
        "  print(f'a média para a area {area} é {media}')\n",
        "\n",
        "  if soma_especies > maior_diversidade:\n",
        "    maior_diversidade = soma_especies\n",
        "    area_maior_diversidade = area\n",
        "\n",
        "print(f'a área com maior diversidade eh {area_maior_diversidade}, como um total de {soma_especies} especies')"
      ],
      "metadata": {
        "id": "eQnOUDfYMlWy",
        "colab": {
          "base_uri": "https://localhost:8080/"
        },
        "outputId": "3429c99f-5435-45e1-c00c-cbacb24133d8"
      },
      "execution_count": null,
      "outputs": [
        {
          "output_type": "stream",
          "name": "stdout",
          "text": [
            "a média para a area Área Norte é 5027.5\n",
            "a média para a area Área Leste é 5466.0\n",
            "a média para a area Área Sul é 6732.5\n",
            "a média para a area Área Oeste é 32067.0\n",
            "a média para a area Área Centro é 33853.0\n",
            "a área com maior diversidade eh Área Centro, como um total de 67706 especies\n"
          ]
        }
      ]
    },
    {
      "cell_type": "markdown",
      "source": [
        "#### Questão 15\n",
        "O setor de RH da sua empresa te pediu uma ajuda para analisar as idades dos funcionários de 4 setores da empresa. Para isso, ele te forneceu os seguintes dados:\n",
        "```\n",
        "{'Setor A': [22, 26, 30, 30, 35, 38, 40, 56, 57, 65],\n",
        " 'Setor B': [22, 24, 26, 33, 41, 49, 50, 54, 60, 64],\n",
        " 'Setor C': [23, 26, 26, 29, 34, 35, 36, 41, 52, 56],\n",
        " 'Setor D': [19, 20, 25, 27, 34, 39, 42, 44, 50, 65]}\n",
        "```\n",
        "Sabendo que cada setor tem 10 funcionários, construa um código que calcule a média de idade de cada setor, a idade média geral entre todos os setores e quantas pessoas estão acima da idade média geral.\n"
      ],
      "metadata": {
        "id": "r0RW2Sy_MlWy"
      }
    },
    {
      "cell_type": "code",
      "source": [
        "dados = {'Setor A': [22, 26, 30, 30, 35, 38, 40, 56, 57, 65],\n",
        " 'Setor B': [22, 24, 26, 33, 41, 49, 50, 54, 60, 64],\n",
        " 'Setor C': [23, 26, 26, 29, 34, 35, 36, 41, 52, 56],\n",
        " 'Setor D': [19, 20, 25, 27, 34, 39, 42, 44, 50, 65]}\n",
        "\n",
        "acima_media = 0\n",
        "soma_total = 0\n",
        "total_pessoas = 0\n",
        "\n",
        "for setor, idades in dados.items():\n",
        "  soma_idades = sum(idades)\n",
        "  media = soma_idades/len(idades)\n",
        "  print(f'a media de idades para o {setor} é {media}')\n",
        "\n",
        "  soma_total += soma_idades\n",
        "  total_pessoas += len(idades)\n",
        "\n",
        "media_geral = soma_total/total_pessoas\n",
        "\n",
        "for setor, idades in dados.items():\n",
        "  for idade in idades:\n",
        "    if idade > media_geral:\n",
        "      acima_media += 1\n",
        "\n",
        "print(f'idade média geral = {media_geral}')\n",
        "print(f'pessoas acima da média de idades = {acima_media}')"
      ],
      "metadata": {
        "id": "wCiwyKP3MmTz",
        "colab": {
          "base_uri": "https://localhost:8080/"
        },
        "outputId": "f9b063f6-a3b8-4a7a-def5-767e9aff32b9"
      },
      "execution_count": null,
      "outputs": [
        {
          "output_type": "stream",
          "name": "stdout",
          "text": [
            "a media de idades para o Setor A é 39.9\n",
            "a media de idades para o Setor B é 42.3\n",
            "a media de idades para o Setor C é 35.8\n",
            "a media de idades para o Setor D é 36.5\n",
            "idade média geral = 38.625\n",
            "pessoas acima da média de idades = 18\n"
          ]
        }
      ]
    }
  ]
}